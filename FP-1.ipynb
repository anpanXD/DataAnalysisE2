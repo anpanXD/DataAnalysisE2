{
 "cells": [
  {
   "cell_type": "markdown",
   "metadata": {},
   "source": [
    "# Analysis of gun violence incidents by age\n",
    "\n",
    "\n",
    "### Overview:\n",
    "\n",
    "* **Name**: Usa Mori\n",
    "* **Student number**: a0252207"
   ]
  },
  {
   "cell_type": "markdown",
   "metadata": {},
   "source": [
    "### Purpose:\n",
    "\n",
    "- The purpose of this project is to analyse incident characteristics, locations, and circumstances around the involved firearm(s) for potential patterns and correlation with participant age. Knowledge of correlations would give governing agencies and other organizations a clearer direction as to what kinds of preventative initiatives should be focused on, as this would likely vary by age group.\n",
    "\n",
    "- The key dependent variable (DV) is participant age.\n",
    "- They key independent variables (IVs) include:\n",
    "    - The list of incident characteristics\n",
    "    - Age of subject-suspect\n",
    "    - Congressional district\n",
    "    - Description of location where incident took place\n",
    "    - Number of guns involved\n",
    "    - Description of gun type\n",
    "    - Whether the gun was stolen\n",
    "\n",
    "- This dataset contains 263856 cases (participants in gun violence incidents). There are 27 fields, 9 of which are required for entries."
   ]
  },
  {
   "cell_type": "markdown",
   "metadata": {},
   "source": [
    "### Dataset source:\n",
    "\n",
    "The data comes from the [Gun Violence Archive](http://www.gunviolencearchive.org/)'s website. The Gun Violence Archive (GVA) is a not-for-profit, independent organization that collects gun violence incidents from 7,500+ sources across law enforcement, media, government, and commercial spheres in an effort to maintain a near-real time online archive. Due to the GVA's downloading limitations, it was sorted and merged by GitHub user [James Ko](https://github.com/jamesqo).\n",
    "\n",
    "The data is available for download [here](https://github.com/jamesqo/gun-violence-data).\n",
    "\n",
    "#### References:\n",
    "\n",
    "Ko, James. Jamesqo/Gun-Violence-Data. 2 Apr. 2018, Python. 30 Oct. 2025. GitHub, https://github.com/jamesqo/gun-violence-data."
   ]
  }
 ],
 "metadata": {
  "kernelspec": {
   "display_name": "Python 3 (ipykernel)",
   "language": "python",
   "name": "python3"
  },
  "language_info": {
   "codemirror_mode": {
    "name": "ipython",
    "version": 3
   },
   "file_extension": ".py",
   "mimetype": "text/x-python",
   "name": "python",
   "nbconvert_exporter": "python",
   "pygments_lexer": "ipython3",
   "version": "3.13.5"
  }
 },
 "nbformat": 4,
 "nbformat_minor": 4
}
